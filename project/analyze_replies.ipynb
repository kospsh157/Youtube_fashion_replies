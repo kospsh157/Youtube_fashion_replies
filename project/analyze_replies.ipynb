{
 "cells": [
  {
   "cell_type": "code",
   "execution_count": 33,
   "metadata": {},
   "outputs": [
    {
     "name": "stdout",
     "output_type": "stream",
     "text": [
      "<class 'pandas.core.frame.DataFrame'>\n",
      "RangeIndex: 2391 entries, 0 to 2390\n",
      "Data columns (total 9 columns):\n",
      " #   Column        Non-Null Count  Dtype         \n",
      "---  ------        --------------  -----         \n",
      " 0   video_id      2391 non-null   object        \n",
      " 1   title         2391 non-null   object        \n",
      " 2   time          2391 non-null   datetime64[ns]\n",
      " 3   views         2391 non-null   int64         \n",
      " 4   likes         2391 non-null   int64         \n",
      " 5   dislikes      2391 non-null   int64         \n",
      " 6   comments_cnt  2391 non-null   int64         \n",
      " 7   comments      2391 non-null   object        \n",
      " 8   query         2391 non-null   object        \n",
      "dtypes: datetime64[ns](1), int64(4), object(4)\n",
      "memory usage: 168.2+ KB\n",
      "None\n"
     ]
    }
   ],
   "source": [
    "# db 접속 \n",
    "# 우선 db 접속 후 원시 데이터 받기\n",
    "import pandas as pd\n",
    "import seaborn as sns\n",
    "import matplotlib.pyplot as plt\n",
    "from sqlalchemy import create_engine\n",
    "from config import DB_PASS\n",
    "\n",
    "# PostgreSQL 데이터베이스 연결 설정\n",
    "username = 'psh0826'  # 사용자 이름\n",
    "password = DB_PASS  # 비밀번호\n",
    "host = 'localhost'  # 데이터베이스 서버 주소\n",
    "port = '5432'  # 포트 번호\n",
    "dbname = 'youtube_videos'  # 데이터베이스 이름\n",
    "connection_string = f\"postgresql://{username}:{password}@{host}:{port}/{dbname}\"\n",
    "\n",
    "# 데이터베이스 연결 엔진 생성\n",
    "engine = create_engine(connection_string)\n",
    "\n",
    "# SQL 쿼리 실행 및 데이터프레임으로 변환\n",
    "query = \"SELECT * FROM video_datas;\"\n",
    "\n",
    "# 데이터를 가져올 테이블명\n",
    "df = pd.read_sql(query, engine)\n",
    "\n",
    "# 데이터 확인\n",
    "# info() 에서 수치형 / 문자열 등을 체크한다.\n",
    "print(df.info())"
   ]
  },
  {
   "cell_type": "code",
   "execution_count": 35,
   "metadata": {},
   "outputs": [
    {
     "name": "stdout",
     "output_type": "stream",
     "text": [
      "video_id        0\n",
      "title           0\n",
      "time            0\n",
      "views           0\n",
      "likes           0\n",
      "dislikes        0\n",
      "comments_cnt    0\n",
      "comments        0\n",
      "query           0\n",
      "dtype: int64\n"
     ]
    }
   ],
   "source": [
    "# 널값 조사\n",
    "print(df.isnull().sum())\n",
    "\n"
   ]
  },
  {
   "cell_type": "code",
   "execution_count": 57,
   "metadata": {},
   "outputs": [
    {
     "name": "stdout",
     "output_type": "stream",
     "text": [
      "datetime64[ns]\n",
      "0      2022-09-01 02:00:07\n",
      "1      2022-09-01 06:00:04\n",
      "2      2022-09-01 08:00:05\n",
      "3      2022-09-01 08:00:09\n",
      "4      2022-09-01 09:00:06\n",
      "               ...        \n",
      "2386   2023-10-31 13:00:19\n",
      "2387   2023-10-31 13:45:03\n",
      "2388   2023-10-31 18:02:45\n",
      "2389   2023-10-31 20:00:12\n",
      "2390   2023-10-31 23:00:28\n",
      "Name: time, Length: 2391, dtype: datetime64[ns]\n",
      "time\n",
      "2022-09-01 02:00:07    1\n",
      "2022-09-01 06:00:04    1\n",
      "2022-09-01 08:00:05    1\n",
      "2022-09-01 08:00:09    1\n",
      "2022-09-01 09:00:06    1\n",
      "                      ..\n",
      "2023-10-31 13:00:19    1\n",
      "2023-10-31 13:45:03    1\n",
      "2023-10-31 18:02:45    1\n",
      "2023-10-31 20:00:12    1\n",
      "2023-10-31 23:00:28    1\n",
      "Name: count, Length: 2373, dtype: int64\n"
     ]
    },
    {
     "name": "stderr",
     "output_type": "stream",
     "text": [
      "/opt/homebrew/Caskroom/miniforge/base/envs/tensor/lib/python3.9/site-packages/IPython/core/pylabtools.py:152: UserWarning: Glyph 49884 (\\N{HANGUL SYLLABLE SI}) missing from current font.\n",
      "  fig.canvas.print_figure(bytes_io, **kw)\n",
      "/opt/homebrew/Caskroom/miniforge/base/envs/tensor/lib/python3.9/site-packages/IPython/core/pylabtools.py:152: UserWarning: Glyph 44036 (\\N{HANGUL SYLLABLE GAN}) missing from current font.\n",
      "  fig.canvas.print_figure(bytes_io, **kw)\n",
      "/opt/homebrew/Caskroom/miniforge/base/envs/tensor/lib/python3.9/site-packages/IPython/core/pylabtools.py:152: UserWarning: Glyph 48516 (\\N{HANGUL SYLLABLE BUN}) missing from current font.\n",
      "  fig.canvas.print_figure(bytes_io, **kw)\n",
      "/opt/homebrew/Caskroom/miniforge/base/envs/tensor/lib/python3.9/site-packages/IPython/core/pylabtools.py:152: UserWarning: Glyph 54252 (\\N{HANGUL SYLLABLE PO}) missing from current font.\n",
      "  fig.canvas.print_figure(bytes_io, **kw)\n",
      "/opt/homebrew/Caskroom/miniforge/base/envs/tensor/lib/python3.9/site-packages/IPython/core/pylabtools.py:152: UserWarning: Glyph 47561 (\\N{HANGUL SYLLABLE MAG}) missing from current font.\n",
      "  fig.canvas.print_figure(bytes_io, **kw)\n",
      "/opt/homebrew/Caskroom/miniforge/base/envs/tensor/lib/python3.9/site-packages/IPython/core/pylabtools.py:152: UserWarning: Glyph 45824 (\\N{HANGUL SYLLABLE DAE}) missing from current font.\n",
      "  fig.canvas.print_figure(bytes_io, **kw)\n",
      "/opt/homebrew/Caskroom/miniforge/base/envs/tensor/lib/python3.9/site-packages/IPython/core/pylabtools.py:152: UserWarning: Glyph 44536 (\\N{HANGUL SYLLABLE GEU}) missing from current font.\n",
      "  fig.canvas.print_figure(bytes_io, **kw)\n",
      "/opt/homebrew/Caskroom/miniforge/base/envs/tensor/lib/python3.9/site-packages/IPython/core/pylabtools.py:152: UserWarning: Glyph 47000 (\\N{HANGUL SYLLABLE RAE}) missing from current font.\n",
      "  fig.canvas.print_figure(bytes_io, **kw)\n",
      "/opt/homebrew/Caskroom/miniforge/base/envs/tensor/lib/python3.9/site-packages/IPython/core/pylabtools.py:152: UserWarning: Glyph 54532 (\\N{HANGUL SYLLABLE PEU}) missing from current font.\n",
      "  fig.canvas.print_figure(bytes_io, **kw)\n"
     ]
    },
    {
     "data": {
      "image/png": "[encoded data removed]",
      "text/plain": [
       "<Figure size 1000x600 with 1 Axes>"
      ]
     },
     "metadata": {},
     "output_type": "display_data"
    }
   ],
   "source": [
    "# 수치형 데이터 조사\n",
    "df.describe()\n",
    "\n",
    "# 수치형 데이터 중에서 이산형 데이터가 아니거나, 범위형이거나, 지금 처럼 시간이나 날짜 값인지 확인해본다.\n",
    "# time 컬럼 데이터 확인\n",
    "# print(df['time'])\n",
    "\n",
    "# 정렬\n",
    "print(df['time'].dtypes)\n",
    "# print(pd.to_datetime(df['time'])) # 필요하면 날짜타입으로 바꾸고\n",
    "print(df['time'].sort_values())\n",
    "\n",
    "# 시간대 시각화 \n",
    "\n",
    "# 날짜를 시간까지만 나오게 하기\n",
    "\n",
    "\n",
    "# 시간대별로 데이터 개수 확인\n",
    "time_series_cnt = df['time'].value_counts().sort_index()\n",
    "print(time_series_cnt)\n",
    "\n",
    "\n",
    "\n",
    "# 막대 그래프\n",
    "plt.figure(figsize=(10,6))\n",
    "plt.bar(time_series_cnt.index, time_series_cnt.values, width = 0.5)\n",
    "plt.xlabel('time')\n",
    "plt.ylabel('cnt')\n",
    "plt.title('시간 분포 막대그래프')\n",
    "\n",
    "\n",
    "plt.show()\n"
   ]
  },
  {
   "cell_type": "code",
   "execution_count": 41,
   "metadata": {},
   "outputs": [
    {
     "name": "stdout",
     "output_type": "stream",
     "text": [
      "video_id        0\n",
      "title           0\n",
      "time            0\n",
      "views           0\n",
      "likes           0\n",
      "dislikes        0\n",
      "comments_cnt    0\n",
      "comments        0\n",
      "query           0\n",
      "dtype: int64\n",
      "0\n"
     ]
    }
   ],
   "source": [
    "# 널값 확인\n",
    "df.isnull()\n",
    "\n",
    "# 널값 개수 확인\n",
    "df.isnull().sum()\n",
    "print(df.isna().sum())\n",
    "\n",
    "# isna 는 시리얼 객체에도 적용됨.\n",
    "df['video_id'].isna()\n",
    "print(df['video_id'].isna().sum())"
   ]
  },
  {
   "cell_type": "code",
   "execution_count": null,
   "metadata": {},
   "outputs": [],
   "source": []
  }
 ],
 "metadata": {
  "kernelspec": {
   "display_name": "tensor",
   "language": "python",
   "name": "python3"
  },
  "language_info": {
   "codemirror_mode": {
    "name": "ipython",
    "version": 3
   },
   "file_extension": ".py",
   "mimetype": "text/x-python",
   "name": "python",
   "nbconvert_exporter": "python",
   "pygments_lexer": "ipython3",
   "version": "3.9.18"
  }
 },
 "nbformat": 4,
 "nbformat_minor": 2
}
