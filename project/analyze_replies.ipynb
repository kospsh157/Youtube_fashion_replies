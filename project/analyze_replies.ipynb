{
 "cells": [
  {
   "cell_type": "code",
   "execution_count": 2,
   "metadata": {},
   "outputs": [
    {
     "name": "stdout",
     "output_type": "stream",
     "text": [
      "<class 'pandas.core.frame.DataFrame'>\n",
      "RangeIndex: 2391 entries, 0 to 2390\n",
      "Data columns (total 9 columns):\n",
      " #   Column        Non-Null Count  Dtype         \n",
      "---  ------        --------------  -----         \n",
      " 0   video_id      2391 non-null   object        \n",
      " 1   title         2391 non-null   object        \n",
      " 2   time          2391 non-null   datetime64[ns]\n",
      " 3   views         2391 non-null   int64         \n",
      " 4   likes         2391 non-null   int64         \n",
      " 5   dislikes      2391 non-null   int64         \n",
      " 6   comments_cnt  2391 non-null   int64         \n",
      " 7   comments      2391 non-null   object        \n",
      " 8   query         2391 non-null   object        \n",
      "dtypes: datetime64[ns](1), int64(4), object(4)\n",
      "memory usage: 168.2+ KB\n",
      "None\n"
     ]
    }
   ],
   "source": [
    "# db 접속 \n",
    "# 우선 db 접속 후 원시 데이터 받기\n",
    "import pandas as pd\n",
    "from sqlalchemy import create_engine\n",
    "from config import DB_PASS\n",
    "\n",
    "# PostgreSQL 데이터베이스 연결 설정\n",
    "username = 'psh0826'  # 사용자 이름\n",
    "password = DB_PASS  # 비밀번호\n",
    "host = 'localhost'  # 데이터베이스 서버 주소\n",
    "port = '5432'  # 포트 번호\n",
    "dbname = 'youtube_videos'  # 데이터베이스 이름\n",
    "connection_string = f\"postgresql://{username}:{password}@{host}:{port}/{dbname}\"\n",
    "\n",
    "# 데이터베이스 연결 엔진 생성\n",
    "engine = create_engine(connection_string)\n",
    "\n",
    "# SQL 쿼리 실행 및 데이터프레임으로 변환\n",
    "query = \"SELECT * FROM video_datas;\"\n",
    "\n",
    "# 데이터를 가져올 테이블명\n",
    "df = pd.read_sql(query, engine)\n",
    "print(df.info())"
   ]
  },
  {
   "cell_type": "code",
   "execution_count": 19,
   "metadata": {},
   "outputs": [
    {
     "data": {
      "text/html": [
       "<div>\n",
       "<style scoped>\n",
       "    .dataframe tbody tr th:only-of-type {\n",
       "        vertical-align: middle;\n",
       "    }\n",
       "\n",
       "    .dataframe tbody tr th {\n",
       "        vertical-align: top;\n",
       "    }\n",
       "\n",
       "    .dataframe thead th {\n",
       "        text-align: right;\n",
       "    }\n",
       "</style>\n",
       "<table border=\"1\" class=\"dataframe\">\n",
       "  <thead>\n",
       "    <tr style=\"text-align: right;\">\n",
       "      <th></th>\n",
       "      <th>time</th>\n",
       "      <th>views</th>\n",
       "      <th>likes</th>\n",
       "      <th>dislikes</th>\n",
       "      <th>comments_cnt</th>\n",
       "    </tr>\n",
       "  </thead>\n",
       "  <tbody>\n",
       "    <tr>\n",
       "      <th>count</th>\n",
       "      <td>2391</td>\n",
       "      <td>2.391000e+03</td>\n",
       "      <td>2391.000000</td>\n",
       "      <td>2391.0</td>\n",
       "      <td>2391.000000</td>\n",
       "    </tr>\n",
       "    <tr>\n",
       "      <th>mean</th>\n",
       "      <td>2023-02-25 17:35:32.851108352</td>\n",
       "      <td>1.504341e+05</td>\n",
       "      <td>1924.440402</td>\n",
       "      <td>0.0</td>\n",
       "      <td>88.563363</td>\n",
       "    </tr>\n",
       "    <tr>\n",
       "      <th>min</th>\n",
       "      <td>2022-09-01 02:00:07</td>\n",
       "      <td>5.130000e+02</td>\n",
       "      <td>0.000000</td>\n",
       "      <td>0.0</td>\n",
       "      <td>0.000000</td>\n",
       "    </tr>\n",
       "    <tr>\n",
       "      <th>25%</th>\n",
       "      <td>2022-10-10 05:07:35.500000</td>\n",
       "      <td>1.736850e+04</td>\n",
       "      <td>218.000000</td>\n",
       "      <td>0.0</td>\n",
       "      <td>11.000000</td>\n",
       "    </tr>\n",
       "    <tr>\n",
       "      <th>50%</th>\n",
       "      <td>2022-11-14 13:00:17</td>\n",
       "      <td>4.521600e+04</td>\n",
       "      <td>576.000000</td>\n",
       "      <td>0.0</td>\n",
       "      <td>44.000000</td>\n",
       "    </tr>\n",
       "    <tr>\n",
       "      <th>75%</th>\n",
       "      <td>2023-09-21 10:41:35</td>\n",
       "      <td>1.155560e+05</td>\n",
       "      <td>1461.500000</td>\n",
       "      <td>0.0</td>\n",
       "      <td>103.000000</td>\n",
       "    </tr>\n",
       "    <tr>\n",
       "      <th>max</th>\n",
       "      <td>2023-10-31 23:00:28</td>\n",
       "      <td>2.669352e+07</td>\n",
       "      <td>238817.000000</td>\n",
       "      <td>0.0</td>\n",
       "      <td>3942.000000</td>\n",
       "    </tr>\n",
       "    <tr>\n",
       "      <th>std</th>\n",
       "      <td>NaN</td>\n",
       "      <td>6.705289e+05</td>\n",
       "      <td>7521.767770</td>\n",
       "      <td>0.0</td>\n",
       "      <td>172.372061</td>\n",
       "    </tr>\n",
       "  </tbody>\n",
       "</table>\n",
       "</div>"
      ],
      "text/plain": [
       "                                time         views          likes  dislikes  \\\n",
       "count                           2391  2.391000e+03    2391.000000    2391.0   \n",
       "mean   2023-02-25 17:35:32.851108352  1.504341e+05    1924.440402       0.0   \n",
       "min              2022-09-01 02:00:07  5.130000e+02       0.000000       0.0   \n",
       "25%       2022-10-10 05:07:35.500000  1.736850e+04     218.000000       0.0   \n",
       "50%              2022-11-14 13:00:17  4.521600e+04     576.000000       0.0   \n",
       "75%              2023-09-21 10:41:35  1.155560e+05    1461.500000       0.0   \n",
       "max              2023-10-31 23:00:28  2.669352e+07  238817.000000       0.0   \n",
       "std                              NaN  6.705289e+05    7521.767770       0.0   \n",
       "\n",
       "       comments_cnt  \n",
       "count   2391.000000  \n",
       "mean      88.563363  \n",
       "min        0.000000  \n",
       "25%       11.000000  \n",
       "50%       44.000000  \n",
       "75%      103.000000  \n",
       "max     3942.000000  \n",
       "std      172.372061  "
      ]
     },
     "execution_count": 19,
     "metadata": {},
     "output_type": "execute_result"
    }
   ],
   "source": [
    "df.describe()"
   ]
  },
  {
   "cell_type": "code",
   "execution_count": 27,
   "metadata": {},
   "outputs": [
    {
     "data": {
      "text/plain": [
       "Index(['video_id', 'title', 'time', 'views', 'likes', 'dislikes',\n",
       "       'comments_cnt', 'comments', 'query'],\n",
       "      dtype='object')"
      ]
     },
     "execution_count": 27,
     "metadata": {},
     "output_type": "execute_result"
    }
   ],
   "source": [
    "df.columns"
   ]
  },
  {
   "cell_type": "code",
   "execution_count": 26,
   "metadata": {},
   "outputs": [
    {
     "name": "stderr",
     "output_type": "stream",
     "text": [
      "Feature: query                               |█████████ | [ 90%]   00:00 -> (00:00 left)/opt/homebrew/Caskroom/miniforge/base/envs/tensor/lib/python3.9/site-packages/sweetviz/graph.py:33: UserWarning: Glyph 54056 (\\N{HANGUL SYLLABLE PAE}) missing from current font.\n",
      "  figure.savefig(as_raw_bytes, format='png', transparent=True)\n",
      "/opt/homebrew/Caskroom/miniforge/base/envs/tensor/lib/python3.9/site-packages/sweetviz/graph.py:33: UserWarning: Glyph 49496 (\\N{HANGUL SYLLABLE SYEON}) missing from current font.\n",
      "  figure.savefig(as_raw_bytes, format='png', transparent=True)\n",
      "/opt/homebrew/Caskroom/miniforge/base/envs/tensor/lib/python3.9/site-packages/sweetviz/graph.py:33: UserWarning: Glyph 54056 (\\N{HANGUL SYLLABLE PAE}) missing from current font.\n",
      "  figure.savefig(as_raw_bytes, format='png', transparent=True)\n",
      "/opt/homebrew/Caskroom/miniforge/base/envs/tensor/lib/python3.9/site-packages/sweetviz/graph.py:33: UserWarning: Glyph 49496 (\\N{HANGUL SYLLABLE SYEON}) missing from current font.\n",
      "  figure.savefig(as_raw_bytes, format='png', transparent=True)\n",
      "Done! Use 'show' commands to display/save.   |██████████| [100%]   00:00 -> (00:00 left)\n"
     ]
    },
    {
     "name": "stdout",
     "output_type": "stream",
     "text": [
      "Report output_report.html was generated! NOTEBOOK/COLAB USERS: the web browser MAY not pop up, regardless, the report IS saved in your notebook/colab files.\n"
     ]
    }
   ],
   "source": [
    "import matplotlib.pyplot as plt\n",
    "import seaborn as sns\n",
    "import sweetviz as sv\n",
    "\n",
    "# 데이터프레임을 로드하거나 생성합니다.\n",
    "import pandas as pd\n",
    "\n",
    "\n",
    "# # 데이터프레임을 프로파일링하고 보고서를 생성합니다.\n",
    "# report = sv.analyze(df)\n",
    "# # 보고서를 시각화합니다.\n",
    "# report.show_html(\"output_report.html\")\n"
   ]
  },
  {
   "cell_type": "code",
   "execution_count": 23,
   "metadata": {},
   "outputs": [
    {
     "data": {
      "image/png": "[encoded data removed]",
      "text/plain": [
       "<Figure size 640x480 with 1 Axes>"
      ]
     },
     "metadata": {},
     "output_type": "display_data"
    }
   ],
   "source": [
    "# 데이터 예시 (data는 데이터프레임의 특정 컬럼일 수 있음)\n",
    "# data = [10, 20, 30, 40, 50, 50, 50, 60, 60, 70, 80]\n",
    "\n",
    "# 히스토그램 생성\n",
    "plt.hist(df['time'], bins=5, color='skyblue', edgecolor='black')\n",
    "plt.xlabel('Value')\n",
    "plt.ylabel('Frequency')\n",
    "plt.title('Histogram')\n",
    "plt.show()"
   ]
  },
  {
   "cell_type": "code",
   "execution_count": 18,
   "metadata": {},
   "outputs": [
    {
     "data": {
      "text/plain": [
       "0"
      ]
     },
     "execution_count": 18,
     "metadata": {},
     "output_type": "execute_result"
    }
   ],
   "source": [
    "# 널값 확인\n",
    "df.isnull()\n",
    "\n",
    "# 널값 개수 확인\n",
    "df.isnull().sum()\n",
    "df.isna().sum()\n",
    "\n",
    "# isna 는 시리얼 객체에도 적용됨.\n",
    "df['video_id'].isna()\n",
    "df['video_id'].isna().sum()\n",
    "\n",
    "\n"
   ]
  },
  {
   "cell_type": "code",
   "execution_count": null,
   "metadata": {},
   "outputs": [],
   "source": []
  }
 ],
 "metadata": {
  "kernelspec": {
   "display_name": "tensor",
   "language": "python",
   "name": "python3"
  },
  "language_info": {
   "codemirror_mode": {
    "name": "ipython",
    "version": 3
   },
   "file_extension": ".py",
   "mimetype": "text/x-python",
   "name": "python",
   "nbconvert_exporter": "python",
   "pygments_lexer": "ipython3",
   "version": "3.9.18"
  }
 },
 "nbformat": 4,
 "nbformat_minor": 2
}
